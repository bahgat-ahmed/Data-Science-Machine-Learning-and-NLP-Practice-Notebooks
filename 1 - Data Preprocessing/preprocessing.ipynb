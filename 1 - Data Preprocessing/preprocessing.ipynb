{
  "nbformat": 4,
  "nbformat_minor": 0,
  "metadata": {
    "colab": {
      "name": "preprocessing.ipynb",
      "provenance": [],
      "collapsed_sections": []
    },
    "kernelspec": {
      "name": "python3",
      "display_name": "Python 3"
    }
  },
  "cells": [
    {
      "cell_type": "markdown",
      "metadata": {
        "id": "37puETfgRzzg"
      },
      "source": [
        "# Data Preprocessing Tools"
      ]
    },
    {
      "cell_type": "markdown",
      "metadata": {
        "id": "EoRP98MpR-qj"
      },
      "source": [
        "## Importing the libraries"
      ]
    },
    {
      "cell_type": "code",
      "metadata": {
        "id": "9_o-GNgZgCE-"
      },
      "source": [
        "import numpy as np\n",
        "import matplotlib.pyplot as plt\n",
        "import pandas as pd"
      ],
      "execution_count": 33,
      "outputs": []
    },
    {
      "cell_type": "markdown",
      "metadata": {
        "id": "RopL7tUZSQkT"
      },
      "source": [
        "## Importing the dataset"
      ]
    },
    {
      "cell_type": "code",
      "metadata": {
        "id": "y4QlX813hrQM"
      },
      "source": [
        "dataset = pd.read_csv('Data.csv')\n",
        "X = dataset.iloc[:, :-1].values\n",
        "y = dataset.iloc[:, -1].values"
      ],
      "execution_count": 34,
      "outputs": []
    },
    {
      "cell_type": "code",
      "metadata": {
        "colab": {
          "base_uri": "https://localhost:8080/"
        },
        "id": "QciIPfRph1ID",
        "outputId": "1516162f-cec1-4a6a-fa1c-3279b562afcc"
      },
      "source": [
        "print(X)"
      ],
      "execution_count": 35,
      "outputs": [
        {
          "output_type": "stream",
          "text": [
            "[['France' 44.0 72000.0]\n",
            " ['Spain' 27.0 48000.0]\n",
            " ['Germany' 30.0 54000.0]\n",
            " ['Spain' 38.0 61000.0]\n",
            " ['Germany' 40.0 nan]\n",
            " ['France' 35.0 58000.0]\n",
            " ['Spain' nan 52000.0]\n",
            " ['France' 48.0 79000.0]\n",
            " ['Germany' 50.0 83000.0]\n",
            " ['France' 37.0 67000.0]]\n"
          ],
          "name": "stdout"
        }
      ]
    },
    {
      "cell_type": "code",
      "metadata": {
        "colab": {
          "base_uri": "https://localhost:8080/"
        },
        "id": "LPDjZHl-h2Kq",
        "outputId": "a25d2a27-090a-475a-b5ec-5adbcc59b653"
      },
      "source": [
        "print(y)"
      ],
      "execution_count": 36,
      "outputs": [
        {
          "output_type": "stream",
          "text": [
            "['No' 'Yes' 'No' 'No' 'Yes' 'Yes' 'No' 'Yes' 'No' 'Yes']\n"
          ],
          "name": "stdout"
        }
      ]
    },
    {
      "cell_type": "markdown",
      "metadata": {
        "id": "nhfKXNxlSabC"
      },
      "source": [
        "## Taking care of missing data"
      ]
    },
    {
      "cell_type": "code",
      "metadata": {
        "id": "DohGLZL9kloN"
      },
      "source": [
        "from sklearn.impute import SimpleImputer\n",
        "# instantiating the object to replace nan values with the mean of the\n",
        "# corresponding column\n",
        "imputer = SimpleImputer(missing_values=np.nan, strategy='mean')\n",
        "# compute the mean (make sure to include all numeric data)\n",
        "imputer.fit(X[:, 1:3])\n",
        "# apply the computed mean by replacing nan values with the mean of the\n",
        "# corresponding column\n",
        "X[:, 1:3] = imputer.transform(X[:, 1:3])"
      ],
      "execution_count": 37,
      "outputs": []
    },
    {
      "cell_type": "markdown",
      "metadata": {
        "id": "gYDJZthKo3IS"
      },
      "source": [
        "```\n",
        "# instead of separating \"fit\", and \"transform\" separately we can do them at once\n",
        "X[:, 1:3] = imputer.fit_transform(X[:, 1:3])\n",
        "```"
      ]
    },
    {
      "cell_type": "code",
      "metadata": {
        "colab": {
          "base_uri": "https://localhost:8080/"
        },
        "id": "eJ16IeK_ldCk",
        "outputId": "9595ef8a-779f-4fff-8c36-3abca4541af9"
      },
      "source": [
        "print(X)"
      ],
      "execution_count": 38,
      "outputs": [
        {
          "output_type": "stream",
          "text": [
            "[['France' 44.0 72000.0]\n",
            " ['Spain' 27.0 48000.0]\n",
            " ['Germany' 30.0 54000.0]\n",
            " ['Spain' 38.0 61000.0]\n",
            " ['Germany' 40.0 63777.77777777778]\n",
            " ['France' 35.0 58000.0]\n",
            " ['Spain' 38.77777777777778 52000.0]\n",
            " ['France' 48.0 79000.0]\n",
            " ['Germany' 50.0 83000.0]\n",
            " ['France' 37.0 67000.0]]\n"
          ],
          "name": "stdout"
        }
      ]
    },
    {
      "cell_type": "markdown",
      "metadata": {
        "id": "CriG6VzVSjcK"
      },
      "source": [
        "## Encoding categorical data"
      ]
    },
    {
      "cell_type": "markdown",
      "metadata": {
        "id": "NfQIfEe0l8OS"
      },
      "source": [
        "On having text we should encode them. One way to encode them is to transform them to numbers so (0, 1, 2) for the countries we have in this dataset. However, this could make the model think that there is an implicit order relationship between the encoded values because 0 < 1 < 2 which could be lead to detecting unneeded correlations between features and the final outcome. Therefore, one hot encoding is a better choice in this Nominal Categorical data. One hot encoding means creating binary vectors for each of the categories."
      ]
    },
    {
      "cell_type": "markdown",
      "metadata": {
        "id": "AhSpdQWeSsFh"
      },
      "source": [
        "### Encoding the Independent Variable"
      ]
    },
    {
      "cell_type": "code",
      "metadata": {
        "id": "ELFmyRcsnc4P"
      },
      "source": [
        "from sklearn.compose import ColumnTransformer\n",
        "from sklearn.preprocessing import OneHotEncoder\n",
        "# remainder='passthrough' is used for keeping the other columns that weren't\n",
        "# one-hot encoded, and [0] is the column that we want to one-hot encode\n",
        "ct = ColumnTransformer(transformers=[('encoder', OneHotEncoder(), [0])], remainder='passthrough')\n",
        "# the fit_transform method doesn't return the output as a numpy array. However\n",
        "# we need numpy array which are expected by the fit method of the machine\n",
        "# learning models that we use so we will transform the output to a numpy array\n",
        "X = np.array(ct.fit_transform(X))"
      ],
      "execution_count": 39,
      "outputs": []
    },
    {
      "cell_type": "code",
      "metadata": {
        "colab": {
          "base_uri": "https://localhost:8080/"
        },
        "id": "KtHlulb5qez_",
        "outputId": "e08ecdfb-f9ff-431b-8914-76c6aaa715c8"
      },
      "source": [
        "print(X)"
      ],
      "execution_count": 40,
      "outputs": [
        {
          "output_type": "stream",
          "text": [
            "[[1.0 0.0 0.0 44.0 72000.0]\n",
            " [0.0 0.0 1.0 27.0 48000.0]\n",
            " [0.0 1.0 0.0 30.0 54000.0]\n",
            " [0.0 0.0 1.0 38.0 61000.0]\n",
            " [0.0 1.0 0.0 40.0 63777.77777777778]\n",
            " [1.0 0.0 0.0 35.0 58000.0]\n",
            " [0.0 0.0 1.0 38.77777777777778 52000.0]\n",
            " [1.0 0.0 0.0 48.0 79000.0]\n",
            " [0.0 1.0 0.0 50.0 83000.0]\n",
            " [1.0 0.0 0.0 37.0 67000.0]]\n"
          ],
          "name": "stdout"
        }
      ]
    },
    {
      "cell_type": "markdown",
      "metadata": {
        "id": "DXh8oVSITIc6"
      },
      "source": [
        "### Encoding the Dependent Variable"
      ]
    },
    {
      "cell_type": "markdown",
      "metadata": {
        "id": "tbuPldomyziE"
      },
      "source": [
        "For binary category like Yes or No, Label Encoder will be okay."
      ]
    },
    {
      "cell_type": "code",
      "metadata": {
        "id": "1-jPVt0xyaYu"
      },
      "source": [
        "from sklearn.preprocessing import LabelEncoder\n",
        "le = LabelEncoder()\n",
        "# no need to transform the dependent variable to a numpy array\n",
        "y = le.fit_transform(y)"
      ],
      "execution_count": 41,
      "outputs": []
    },
    {
      "cell_type": "code",
      "metadata": {
        "colab": {
          "base_uri": "https://localhost:8080/"
        },
        "id": "H_oIF68UymnT",
        "outputId": "b62018a0-fa3f-4c2a-e2dd-241999235ad4"
      },
      "source": [
        "print(y)"
      ],
      "execution_count": 42,
      "outputs": [
        {
          "output_type": "stream",
          "text": [
            "[0 1 0 0 1 1 0 1 0 1]\n"
          ],
          "name": "stdout"
        }
      ]
    },
    {
      "cell_type": "markdown",
      "metadata": {
        "id": "qb_vcgm3qZKW"
      },
      "source": [
        "## Splitting the dataset into the Training set and Test set"
      ]
    },
    {
      "cell_type": "code",
      "metadata": {
        "id": "kqyzPUlZ1Ivx"
      },
      "source": [
        "from sklearn.model_selection import train_test_split\n",
        "# use the random state for having reproducible results\n",
        "X_train, X_test, y_train, y_test = train_test_split(X, y, test_size=0.2,\n",
        "                                                    random_state=1)"
      ],
      "execution_count": 43,
      "outputs": []
    },
    {
      "cell_type": "code",
      "metadata": {
        "colab": {
          "base_uri": "https://localhost:8080/"
        },
        "id": "CqZKltvx1f1I",
        "outputId": "7c1f01b2-29db-4db5-b9ab-0224fa808d5a"
      },
      "source": [
        "print(X_train)"
      ],
      "execution_count": 44,
      "outputs": [
        {
          "output_type": "stream",
          "text": [
            "[[0.0 0.0 1.0 38.77777777777778 52000.0]\n",
            " [0.0 1.0 0.0 40.0 63777.77777777778]\n",
            " [1.0 0.0 0.0 44.0 72000.0]\n",
            " [0.0 0.0 1.0 38.0 61000.0]\n",
            " [0.0 0.0 1.0 27.0 48000.0]\n",
            " [1.0 0.0 0.0 48.0 79000.0]\n",
            " [0.0 1.0 0.0 50.0 83000.0]\n",
            " [1.0 0.0 0.0 35.0 58000.0]]\n"
          ],
          "name": "stdout"
        }
      ]
    },
    {
      "cell_type": "code",
      "metadata": {
        "colab": {
          "base_uri": "https://localhost:8080/"
        },
        "id": "To4wclgq1iRU",
        "outputId": "83041a5f-2ab5-49fd-9da4-d5db4cb0225c"
      },
      "source": [
        "print(X_test)"
      ],
      "execution_count": 45,
      "outputs": [
        {
          "output_type": "stream",
          "text": [
            "[[0.0 1.0 0.0 30.0 54000.0]\n",
            " [1.0 0.0 0.0 37.0 67000.0]]\n"
          ],
          "name": "stdout"
        }
      ]
    },
    {
      "cell_type": "code",
      "metadata": {
        "colab": {
          "base_uri": "https://localhost:8080/"
        },
        "id": "Lp8q9a-h1kzT",
        "outputId": "8fe59b34-cc4d-4551-87f4-530f699bdcca"
      },
      "source": [
        "print(y_train)"
      ],
      "execution_count": 46,
      "outputs": [
        {
          "output_type": "stream",
          "text": [
            "[0 1 0 0 1 1 0 1]\n"
          ],
          "name": "stdout"
        }
      ]
    },
    {
      "cell_type": "code",
      "metadata": {
        "colab": {
          "base_uri": "https://localhost:8080/"
        },
        "id": "JVYdySb51me5",
        "outputId": "8aa920ad-aceb-413e-f97a-e3ac6f73c162"
      },
      "source": [
        "print(y_test)"
      ],
      "execution_count": 47,
      "outputs": [
        {
          "output_type": "stream",
          "text": [
            "[0 1]\n"
          ],
          "name": "stdout"
        }
      ]
    },
    {
      "cell_type": "markdown",
      "metadata": {
        "id": "TpGqbS4TqkIR"
      },
      "source": [
        "## Feature Scaling"
      ]
    },
    {
      "cell_type": "markdown",
      "metadata": {
        "id": "3fihncgJzTPf"
      },
      "source": [
        "Feature scaling is to avoid the domination of one of several features over other features which have relatviely small values thus would be negelected by the machine learning model on comparison. To avoid this neglection, we will apply feature scaling.\n",
        "\n",
        "> Feature scaling doesn't have to be applied for all machine learning models like in **Multiple Linear Regression**."
      ]
    },
    {
      "cell_type": "markdown",
      "metadata": {
        "id": "vsZa51-pzstE"
      },
      "source": [
        "**Feature scaling must be done after splitting** to aviod information leakage from the test set. Because if done before feature scaling, the mean and standard deviation of the test set will be leaked to the training set feature scaling which is not supposed to happen in real-life. Sine in reality you are supposed to have new dataset, and we want something similar to truly evaluate our model on new data from which no information has been leaked."
      ]
    },
    {
      "cell_type": "markdown",
      "metadata": {
        "id": "q-vFWDF53J8P"
      },
      "source": [
        "![image.png](data:image/png;base64,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)"
      ]
    },
    {
      "cell_type": "markdown",
      "metadata": {
        "id": "7QcYHqDn3M1E"
      },
      "source": [
        "* After standardsiation: All values should be between -3, and 3.\n",
        "* After normalization: All values must be between 0 and 1."
      ]
    },
    {
      "cell_type": "markdown",
      "metadata": {
        "id": "fblr4_Y33dpV"
      },
      "source": [
        "* **Standardisation:** Will always be good.\n",
        "* **Normalization:** When in most of your features you have normal distribution.\n",
        "\n",
        "Therefore, Standardisation will always do some relevant feature scaling which will improve your training process in return."
      ]
    },
    {
      "cell_type": "markdown",
      "metadata": {
        "id": "VC3IK1Rp46AX"
      },
      "source": [
        "**You don't have to feature scale your dummy variables, especially if you are doing standardization** because:\n",
        "1. You already have your variables in the range `[-3, 3]`\n",
        "2. If you did this, you will lose the interpretation of the categories you encoded which could even make your training performance worse, or at least don't do enough improving in performance."
      ]
    },
    {
      "cell_type": "code",
      "metadata": {
        "id": "-ar_Baq8zgha"
      },
      "source": [
        "from sklearn.preprocessing import StandardScaler\n",
        "\n",
        "sc = StandardScaler()\n",
        "X_train[:, 3:] = sc.fit_transform(X_train[:, 3:])\n",
        "# we will only apply the mean and standard deviation obtained from the training\n",
        "# set to the test set. No need to fit again because that is how our model is\n",
        "# supposed to work on reality on something it has never seen before\n",
        "X_test[:, 3:] = sc.transform(X_test[:, 3:])\n",
        "# note that we have used the same sc which has been fitted on the training set\n",
        "# so the mean and standard deviation values are those of the training set"
      ],
      "execution_count": 48,
      "outputs": []
    },
    {
      "cell_type": "code",
      "metadata": {
        "colab": {
          "base_uri": "https://localhost:8080/"
        },
        "id": "XOFwYG4G73r3",
        "outputId": "b4703447-35e6-47e8-e06b-641ad1455481"
      },
      "source": [
        "print(X_train)"
      ],
      "execution_count": 50,
      "outputs": [
        {
          "output_type": "stream",
          "text": [
            "[[0.0 0.0 1.0 -0.19159184384578545 -1.0781259408412425]\n",
            " [0.0 1.0 0.0 -0.014117293757057777 -0.07013167641635372]\n",
            " [1.0 0.0 0.0 0.566708506533324 0.633562432710455]\n",
            " [0.0 0.0 1.0 -0.30453019390224867 -0.30786617274297867]\n",
            " [0.0 0.0 1.0 -1.9018011447007988 -1.420463615551582]\n",
            " [1.0 0.0 0.0 1.1475343068237058 1.232653363453549]\n",
            " [0.0 1.0 0.0 1.4379472069688968 1.5749910381638885]\n",
            " [1.0 0.0 0.0 -0.7401495441200351 -0.5646194287757332]]\n"
          ],
          "name": "stdout"
        }
      ]
    },
    {
      "cell_type": "code",
      "metadata": {
        "colab": {
          "base_uri": "https://localhost:8080/"
        },
        "id": "wiF7dnEa744N",
        "outputId": "6cb2a570-ad8e-4d8d-ef82-be1003d03162"
      },
      "source": [
        "print(X_test)"
      ],
      "execution_count": 51,
      "outputs": [
        {
          "output_type": "stream",
          "text": [
            "[[0.0 1.0 0.0 -1.4661817944830124 -0.9069571034860727]\n",
            " [1.0 0.0 0.0 -0.44973664397484414 0.2056403393225306]]\n"
          ],
          "name": "stdout"
        }
      ]
    },
    {
      "cell_type": "code",
      "metadata": {
        "id": "LvpvdrcS77w8"
      },
      "source": [
        ""
      ],
      "execution_count": null,
      "outputs": []
    }
  ]
}