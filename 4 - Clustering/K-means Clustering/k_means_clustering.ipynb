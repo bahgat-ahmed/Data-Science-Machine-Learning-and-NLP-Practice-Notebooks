{
  "nbformat": 4,
  "nbformat_minor": 0,
  "metadata": {
    "colab": {
      "name": "k_means_clustering.ipynb",
      "provenance": [],
      "collapsed_sections": [],
      "include_colab_link": true
    },
    "kernelspec": {
      "name": "python3",
      "display_name": "Python 3"
    }
  },
  "cells": [
    {
      "cell_type": "markdown",
      "metadata": {
        "id": "view-in-github",
        "colab_type": "text"
      },
      "source": [
        "<a href=\"https://colab.research.google.com/github/bahgat-ahmed/Data-Science-Machine-Learning-and-NLP-Practice-Notebooks/blob/main/4%20-%20Clustering/K-means%20Clustering/k_means_clustering.ipynb\" target=\"_parent\"><img src=\"https://colab.research.google.com/assets/colab-badge.svg\" alt=\"Open In Colab\"/></a>"
      ]
    },
    {
      "cell_type": "markdown",
      "metadata": {
        "id": "i_paGd_yLbgH"
      },
      "source": [
        "# K-Means Clustering"
      ]
    },
    {
      "cell_type": "markdown",
      "metadata": {
        "id": "trrOgvV1TxE9"
      },
      "source": [
        "In K-Means clustering we're actually creating a new dependent variable where the values will be the clusters themselves. So we are creating a dependent variable from the given features or (independent variables)."
      ]
    },
    {
      "cell_type": "markdown",
      "metadata": {
        "id": "nAuqPwTnLipr"
      },
      "source": [
        "## Importing the libraries"
      ]
    },
    {
      "cell_type": "code",
      "metadata": {
        "id": "Xv7VqBsFSddZ"
      },
      "source": [
        "import numpy as np\n",
        "import pandas as pd\n",
        "import matplotlib.pyplot as plt"
      ],
      "execution_count": 1,
      "outputs": []
    },
    {
      "cell_type": "markdown",
      "metadata": {
        "id": "5LciKOr8Lo5O"
      },
      "source": [
        "## Importing the dataset"
      ]
    },
    {
      "cell_type": "code",
      "metadata": {
        "colab": {
          "base_uri": "https://localhost:8080/",
          "height": 204
        },
        "id": "zhQXtTNTSpY6",
        "outputId": "8bcf5366-df2e-4011-ee64-7b45355479ab"
      },
      "source": [
        "dataset = pd.read_csv('Mall_Customers.csv')\n",
        "dataset.head()"
      ],
      "execution_count": 2,
      "outputs": [
        {
          "output_type": "execute_result",
          "data": {
            "text/html": [
              "<div>\n",
              "<style scoped>\n",
              "    .dataframe tbody tr th:only-of-type {\n",
              "        vertical-align: middle;\n",
              "    }\n",
              "\n",
              "    .dataframe tbody tr th {\n",
              "        vertical-align: top;\n",
              "    }\n",
              "\n",
              "    .dataframe thead th {\n",
              "        text-align: right;\n",
              "    }\n",
              "</style>\n",
              "<table border=\"1\" class=\"dataframe\">\n",
              "  <thead>\n",
              "    <tr style=\"text-align: right;\">\n",
              "      <th></th>\n",
              "      <th>CustomerID</th>\n",
              "      <th>Genre</th>\n",
              "      <th>Age</th>\n",
              "      <th>Annual Income (k$)</th>\n",
              "      <th>Spending Score (1-100)</th>\n",
              "    </tr>\n",
              "  </thead>\n",
              "  <tbody>\n",
              "    <tr>\n",
              "      <th>0</th>\n",
              "      <td>1</td>\n",
              "      <td>Male</td>\n",
              "      <td>19</td>\n",
              "      <td>15</td>\n",
              "      <td>39</td>\n",
              "    </tr>\n",
              "    <tr>\n",
              "      <th>1</th>\n",
              "      <td>2</td>\n",
              "      <td>Male</td>\n",
              "      <td>21</td>\n",
              "      <td>15</td>\n",
              "      <td>81</td>\n",
              "    </tr>\n",
              "    <tr>\n",
              "      <th>2</th>\n",
              "      <td>3</td>\n",
              "      <td>Female</td>\n",
              "      <td>20</td>\n",
              "      <td>16</td>\n",
              "      <td>6</td>\n",
              "    </tr>\n",
              "    <tr>\n",
              "      <th>3</th>\n",
              "      <td>4</td>\n",
              "      <td>Female</td>\n",
              "      <td>23</td>\n",
              "      <td>16</td>\n",
              "      <td>77</td>\n",
              "    </tr>\n",
              "    <tr>\n",
              "      <th>4</th>\n",
              "      <td>5</td>\n",
              "      <td>Female</td>\n",
              "      <td>31</td>\n",
              "      <td>17</td>\n",
              "      <td>40</td>\n",
              "    </tr>\n",
              "  </tbody>\n",
              "</table>\n",
              "</div>"
            ],
            "text/plain": [
              "   CustomerID   Genre  Age  Annual Income (k$)  Spending Score (1-100)\n",
              "0           1    Male   19                  15                      39\n",
              "1           2    Male   21                  15                      81\n",
              "2           3  Female   20                  16                       6\n",
              "3           4  Female   23                  16                      77\n",
              "4           5  Female   31                  17                      40"
            ]
          },
          "metadata": {
            "tags": []
          },
          "execution_count": 2
        }
      ]
    },
    {
      "cell_type": "markdown",
      "metadata": {
        "id": "tx5rVqJuULce"
      },
      "source": [
        "As we see, the Cutomer ID is unique to each customer. Therefore, it is an irrelevant feature that will introduce unnecessary noise in the dependent variable we are creating. So we don't want to include it as a feature that would help in clustering so just exlude it.\n",
        "\n",
        "The rest of the columns (features) in the dataset seems reasonable and relevant for identifying clusters in the data. However, we will only take the last two columns for visualizing the clusters on a nice 2D plot. After this, I will implement the same process on all the 4 relevant columns to mimic the real-life process."
      ]
    },
    {
      "cell_type": "markdown",
      "metadata": {
        "id": "9gCKhoAKogu2"
      },
      "source": [
        "## Using 2 Features"
      ]
    },
    {
      "cell_type": "code",
      "metadata": {
        "colab": {
          "base_uri": "https://localhost:8080/"
        },
        "id": "SKqIkE4bUmkD",
        "outputId": "6ca42902-2322-4b41-dc65-9103805af38e"
      },
      "source": [
        "# include only the last two columns for 2D visualization\n",
        "X = dataset.iloc[:, [3, 4]].values\n",
        "print(X[:10, :])"
      ],
      "execution_count": 3,
      "outputs": [
        {
          "output_type": "stream",
          "text": [
            "[[15 39]\n",
            " [15 81]\n",
            " [16  6]\n",
            " [16 77]\n",
            " [17 40]\n",
            " [17 76]\n",
            " [18  6]\n",
            " [18 94]\n",
            " [19  3]\n",
            " [19 72]]\n"
          ],
          "name": "stdout"
        }
      ]
    },
    {
      "cell_type": "markdown",
      "metadata": {
        "id": "d9gKxM7PXKy8"
      },
      "source": [
        "### Feature scaling"
      ]
    },
    {
      "cell_type": "code",
      "metadata": {
        "id": "QZ90oK8HXMon"
      },
      "source": [
        "from sklearn.preprocessing import StandardScaler\n",
        "\n",
        "sc = StandardScaler()\n",
        "X = sc.fit_transform(X)"
      ],
      "execution_count": 4,
      "outputs": []
    },
    {
      "cell_type": "code",
      "metadata": {
        "colab": {
          "base_uri": "https://localhost:8080/"
        },
        "id": "8kthvnoGXkcq",
        "outputId": "c391b09d-a767-4fcb-b85b-2eeef8e4e913"
      },
      "source": [
        "print(X[:10, :])"
      ],
      "execution_count": 5,
      "outputs": [
        {
          "output_type": "stream",
          "text": [
            "[[-1.73899919 -0.43480148]\n",
            " [-1.73899919  1.19570407]\n",
            " [-1.70082976 -1.71591298]\n",
            " [-1.70082976  1.04041783]\n",
            " [-1.66266033 -0.39597992]\n",
            " [-1.66266033  1.00159627]\n",
            " [-1.62449091 -1.71591298]\n",
            " [-1.62449091  1.70038436]\n",
            " [-1.58632148 -1.83237767]\n",
            " [-1.58632148  0.84631002]]\n"
          ],
          "name": "stdout"
        }
      ]
    },
    {
      "cell_type": "markdown",
      "metadata": {
        "id": "nWC2EWp2Lx5G"
      },
      "source": [
        "### Using the elbow method to find the optimal number of clusters"
      ]
    },
    {
      "cell_type": "markdown",
      "metadata": {
        "id": "3FieJXITa3rl"
      },
      "source": [
        "Avoid random initialization trap by using **k-means++** algorithm."
      ]
    },
    {
      "cell_type": "code",
      "metadata": {
        "colab": {
          "base_uri": "https://localhost:8080/",
          "height": 295
        },
        "id": "WcISl_gVZ3HX",
        "outputId": "f28fe024-8a37-4fe1-c517-4e4e1de040f2"
      },
      "source": [
        "from sklearn.cluster import KMeans\n",
        "\n",
        "wcss = []\n",
        "\n",
        "for i in range(1, 11):\n",
        "    # avoid random initialization trap by using 'k-means++' algorithm\n",
        "    kmeans = KMeans(n_clusters=i,  init='k-means++', random_state=0).fit(X)\n",
        "    wcss.append(kmeans.inertia_)\n",
        "\n",
        "plt.plot(range(1, 11), wcss)\n",
        "plt.title('The Elbow Method')\n",
        "plt.xlabel('Number of Clusters')\n",
        "plt.ylabel('WCSS')   \n",
        "plt.show() "
      ],
      "execution_count": 6,
      "outputs": [
        {
          "output_type": "display_data",
          "data": {
            "image/png": "[encoded data removed]",
            "text/plain": [
              "<Figure size 432x288 with 1 Axes>"
            ]
          },
          "metadata": {
            "tags": [],
            "needs_background": "light"
          }
        }
      ]
    },
    {
      "cell_type": "markdown",
      "metadata": {
        "id": "VgT0mANLL4Nz"
      },
      "source": [
        "### Training the K-Means model on the dataset"
      ]
    },
    {
      "cell_type": "markdown",
      "metadata": {
        "id": "JSnb8Bk-dkV-"
      },
      "source": [
        "From the previous graph, 5 clusters are the optimal number of clusters."
      ]
    },
    {
      "cell_type": "code",
      "metadata": {
        "id": "pGyaMQJNdpLm"
      },
      "source": [
        "kmeans = KMeans(n_clusters=5, init='k-means++', random_state=0).fit(X)\n",
        "# get the depedent variable that is created by training the k-means algorithm\n",
        "y_kmeans = kmeans.predict(X)"
      ],
      "execution_count": 7,
      "outputs": []
    },
    {
      "cell_type": "code",
      "metadata": {
        "colab": {
          "base_uri": "https://localhost:8080/"
        },
        "id": "zDsvsphQfXI-",
        "outputId": "cafd7ca6-c856-4815-b2a3-bbf7d3e54982"
      },
      "source": [
        "print(y_kmeans)"
      ],
      "execution_count": 8,
      "outputs": [
        {
          "output_type": "stream",
          "text": [
            "[4 1 4 1 4 1 4 1 4 1 4 1 4 1 4 1 4 1 4 1 4 1 4 1 4 1 4 1 4 1 4 1 4 1 4 1 4\n",
            " 1 4 1 4 1 4 2 4 1 2 2 2 2 2 2 2 2 2 2 2 2 2 2 2 2 2 2 2 2 2 2 2 2 2 2 2 2\n",
            " 2 2 2 2 2 2 2 2 2 2 2 2 2 2 2 2 2 2 2 2 2 2 2 2 2 2 2 2 2 2 2 2 2 2 2 2 2\n",
            " 2 2 2 2 2 2 2 2 2 2 2 2 3 0 3 2 3 0 3 0 3 2 3 0 3 0 3 0 3 0 3 2 3 0 3 0 3\n",
            " 0 3 0 3 0 3 0 3 0 3 0 3 0 3 0 3 0 3 0 3 0 3 0 3 0 3 0 3 0 3 0 3 0 3 0 3 0\n",
            " 3 0 3 0 3 0 3 0 3 0 3 0 3 0 3]\n"
          ],
          "name": "stdout"
        }
      ]
    },
    {
      "cell_type": "markdown",
      "metadata": {
        "id": "e7YrS1JAMFnm"
      },
      "source": [
        "### Visualising the clusters"
      ]
    },
    {
      "cell_type": "code",
      "metadata": {
        "id": "oUc2HGcWiBAK"
      },
      "source": [
        "# return X values to their original values before feature scaling\n",
        "X = sc.inverse_transform(X)"
      ],
      "execution_count": 9,
      "outputs": []
    },
    {
      "cell_type": "code",
      "metadata": {
        "colab": {
          "base_uri": "https://localhost:8080/",
          "height": 295
        },
        "id": "8wukoz7diOwJ",
        "outputId": "90d41a25-14e1-49ea-ec52-23e34381f9a2"
      },
      "source": [
        "# plot clusters\n",
        "plt.scatter(X[y_kmeans == 0, 0], X[y_kmeans == 0, 1], s=50, c='red',\n",
        "            label='Cluster 1')\n",
        "plt.scatter(X[y_kmeans == 1, 0], X[y_kmeans == 1, 1], s=50, c='blue',\n",
        "            label='Cluster 2')\n",
        "plt.scatter(X[y_kmeans == 2, 0], X[y_kmeans == 2, 1], s=50, c='green',\n",
        "            label='Cluster 3')\n",
        "plt.scatter(X[y_kmeans == 3, 0], X[y_kmeans == 3, 1], s=50, c='yellow',\n",
        "            label='Cluster 4')\n",
        "plt.scatter(X[y_kmeans == 4, 0], X[y_kmeans == 4, 1], s=50, c='Purple',\n",
        "            label='Cluster 5')\n",
        "# get clusters' centroids then return their values to the original scale\n",
        "clusters_centers = sc.inverse_transform(kmeans.cluster_centers_)\n",
        "# plot clusters' centroids\n",
        "plt.scatter(clusters_centers[:, 0], clusters_centers[:, 1], s=100,\n",
        "            c='magenta', label='Centroids')\n",
        "plt.title('Clusters of Customers')\n",
        "plt.xlabel('Annual Income (k$)')\n",
        "plt.ylabel('Spending Score (1-100)')  \n",
        "plt.legend() \n",
        "plt.show() "
      ],
      "execution_count": 10,
      "outputs": [
        {
          "output_type": "display_data",
          "data": {
            "image/png": "[encoded data removed]",
            "text/plain": [
              "<Figure size 432x288 with 1 Axes>"
            ]
          },
          "metadata": {
            "tags": [],
            "needs_background": "light"
          }
        }
      ]
    },
    {
      "cell_type": "markdown",
      "metadata": {
        "id": "6Swor6cfl1RS"
      },
      "source": [
        "#### Insights\n",
        "\n",
        "1. Leave cluster 5, cluster 3 and cluster 4 customers as they are with the same targeting since they are spending in harmony with their annual income.\n",
        "2. Target more cluster 1 customers by increase ads for instance since they have high annual income, but are not spending much in the mall.\n",
        "3. Decrease targeting, ads, and offers for cluster 2 for ethical reasons since they seem to spend more than they afford. So decreasing targeting them will help decrease their finanical burden. Since the offers that are irresistable for these customers might not be as important for them as other crucial things in life that they should spend more money on."
      ]
    },
    {
      "cell_type": "markdown",
      "metadata": {
        "id": "YDl6wQPoormg"
      },
      "source": [
        "## Using 4 Features"
      ]
    },
    {
      "cell_type": "code",
      "metadata": {
        "id": "K_aWPtCzgqYj"
      },
      "source": [
        "X = dataset.iloc[:, 1:].values"
      ],
      "execution_count": 11,
      "outputs": []
    },
    {
      "cell_type": "code",
      "metadata": {
        "colab": {
          "base_uri": "https://localhost:8080/"
        },
        "id": "L_KTBvUzpdL3",
        "outputId": "ec82fc8e-f8f7-402d-8574-325f95e97311"
      },
      "source": [
        "print(X[:10, :])"
      ],
      "execution_count": 12,
      "outputs": [
        {
          "output_type": "stream",
          "text": [
            "[['Male' 19 15 39]\n",
            " ['Male' 21 15 81]\n",
            " ['Female' 20 16 6]\n",
            " ['Female' 23 16 77]\n",
            " ['Female' 31 17 40]\n",
            " ['Female' 22 17 76]\n",
            " ['Female' 35 18 6]\n",
            " ['Female' 23 18 94]\n",
            " ['Male' 64 19 3]\n",
            " ['Female' 30 19 72]]\n"
          ],
          "name": "stdout"
        }
      ]
    },
    {
      "cell_type": "markdown",
      "metadata": {
        "id": "BuwLeSPFpBhE"
      },
      "source": [
        "### One hot encoding the categorical feature"
      ]
    },
    {
      "cell_type": "code",
      "metadata": {
        "id": "TujHXC3spO-b"
      },
      "source": [
        "from sklearn.compose import ColumnTransformer\n",
        "from sklearn.preprocessing import OneHotEncoder\n",
        "# remainder='passthrough' is used for keeping the other columns that weren't\n",
        "# one-hot encoded, and [0] is the column that we want to one-hot encode\n",
        "ct = ColumnTransformer(transformers=[('encoder', OneHotEncoder(), [0])], remainder='passthrough')\n",
        "X = np.array(ct.fit_transform(X))"
      ],
      "execution_count": 13,
      "outputs": []
    },
    {
      "cell_type": "code",
      "metadata": {
        "colab": {
          "base_uri": "https://localhost:8080/"
        },
        "id": "aygXFvrHpiHF",
        "outputId": "a9709e63-6538-4ca4-b6db-43ebafae5804"
      },
      "source": [
        "print(X[:10, :])"
      ],
      "execution_count": 14,
      "outputs": [
        {
          "output_type": "stream",
          "text": [
            "[[0.0 1.0 19 15 39]\n",
            " [0.0 1.0 21 15 81]\n",
            " [1.0 0.0 20 16 6]\n",
            " [1.0 0.0 23 16 77]\n",
            " [1.0 0.0 31 17 40]\n",
            " [1.0 0.0 22 17 76]\n",
            " [1.0 0.0 35 18 6]\n",
            " [1.0 0.0 23 18 94]\n",
            " [0.0 1.0 64 19 3]\n",
            " [1.0 0.0 30 19 72]]\n"
          ],
          "name": "stdout"
        }
      ]
    },
    {
      "cell_type": "markdown",
      "metadata": {
        "id": "ZFU1rE0lo3mN"
      },
      "source": [
        "### Feature scaling"
      ]
    },
    {
      "cell_type": "code",
      "metadata": {
        "id": "CDycPHTGo3wt"
      },
      "source": [
        "from sklearn.preprocessing import StandardScaler\n",
        "\n",
        "sc = StandardScaler()\n",
        "X = sc.fit_transform(X)"
      ],
      "execution_count": 15,
      "outputs": []
    },
    {
      "cell_type": "code",
      "metadata": {
        "colab": {
          "base_uri": "https://localhost:8080/"
        },
        "id": "z8BqGZS9pq-q",
        "outputId": "1a60e1b4-f5a2-4680-87ea-399b955e7732"
      },
      "source": [
        "print(X[:10, :])"
      ],
      "execution_count": 16,
      "outputs": [
        {
          "output_type": "stream",
          "text": [
            "[[-1.12815215  1.12815215 -1.42456879 -1.73899919 -0.43480148]\n",
            " [-1.12815215  1.12815215 -1.28103541 -1.73899919  1.19570407]\n",
            " [ 0.88640526 -0.88640526 -1.3528021  -1.70082976 -1.71591298]\n",
            " [ 0.88640526 -0.88640526 -1.13750203 -1.70082976  1.04041783]\n",
            " [ 0.88640526 -0.88640526 -0.56336851 -1.66266033 -0.39597992]\n",
            " [ 0.88640526 -0.88640526 -1.20926872 -1.66266033  1.00159627]\n",
            " [ 0.88640526 -0.88640526 -0.27630176 -1.62449091 -1.71591298]\n",
            " [ 0.88640526 -0.88640526 -1.13750203 -1.62449091  1.70038436]\n",
            " [-1.12815215  1.12815215  1.80493225 -1.58632148 -1.83237767]\n",
            " [ 0.88640526 -0.88640526 -0.6351352  -1.58632148  0.84631002]]\n"
          ],
          "name": "stdout"
        }
      ]
    },
    {
      "cell_type": "markdown",
      "metadata": {
        "id": "KdQFPl1upy04"
      },
      "source": [
        "### Using the elbow method to find the optimal number of clusters"
      ]
    },
    {
      "cell_type": "code",
      "metadata": {
        "colab": {
          "base_uri": "https://localhost:8080/",
          "height": 295
        },
        "id": "WK-qKchPpsef",
        "outputId": "7752dafd-1b60-4f25-c512-1dd750d7ee06"
      },
      "source": [
        "from sklearn.cluster import KMeans\n",
        "\n",
        "wcss = []\n",
        "\n",
        "for i in range(1, 11):\n",
        "    # avoid random initialization trap by using 'k-means++' algorithm\n",
        "    kmeans = KMeans(n_clusters=i,  init='k-means++', random_state=0).fit(X)\n",
        "    wcss.append(kmeans.inertia_)\n",
        "\n",
        "plt.plot(range(1, 11), wcss)\n",
        "plt.title('The Elbow Method')\n",
        "plt.xlabel('Number of Clusters')\n",
        "plt.ylabel('WCSS')   \n",
        "plt.show() "
      ],
      "execution_count": 17,
      "outputs": [
        {
          "output_type": "display_data",
          "data": {
            "image/png": "[encoded data removed]",
            "text/plain": [
              "<Figure size 432x288 with 1 Axes>"
            ]
          },
          "metadata": {
            "tags": [],
            "needs_background": "light"
          }
        }
      ]
    },
    {
      "cell_type": "markdown",
      "metadata": {
        "id": "Pq8x5LC4p-3E"
      },
      "source": [
        "### Training the K-Means model on the dataset"
      ]
    },
    {
      "cell_type": "markdown",
      "metadata": {
        "id": "Vp-4gbJAqDaA"
      },
      "source": [
        "From the previous graph, 5 clusters are the optimal number of clusters."
      ]
    },
    {
      "cell_type": "code",
      "metadata": {
        "id": "hJsV9Jvfp227"
      },
      "source": [
        "kmeans = KMeans(n_clusters=5, init='k-means++', random_state=0).fit(X)\n",
        "# get the depedent variable that is created by training the k-means algorithm\n",
        "y_kmeans = kmeans.predict(X)"
      ],
      "execution_count": 18,
      "outputs": []
    },
    {
      "cell_type": "code",
      "metadata": {
        "colab": {
          "base_uri": "https://localhost:8080/"
        },
        "id": "hXCwVal0qHFP",
        "outputId": "94dd1548-7555-4cc1-9711-c2179623154d"
      },
      "source": [
        "print(y_kmeans)"
      ],
      "execution_count": 19,
      "outputs": [
        {
          "output_type": "stream",
          "text": [
            "[0 0 1 4 4 4 1 4 3 4 3 4 1 4 3 0 1 0 3 4 3 0 1 0 1 0 1 0 1 4 3 4 3 0 1 4 1\n",
            " 4 1 4 1 0 3 4 1 4 1 4 4 4 1 0 4 3 1 3 1 3 4 3 3 0 1 1 3 0 1 1 0 4 3 1 1 1\n",
            " 3 0 1 0 4 1 3 0 3 1 4 3 1 4 4 1 1 0 3 1 4 0 1 4 3 0 4 1 3 0 3 4 1 3 3 3 3\n",
            " 4 1 0 4 4 1 1 1 1 0 1 4 0 4 4 2 0 3 0 2 0 4 4 2 4 1 0 2 4 1 0 4 4 2 0 2 4\n",
            " 1 0 2 0 1 4 1 4 2 4 2 4 1 4 2 4 2 4 2 4 1 0 2 0 2 0 1 4 2 0 2 0 1 4 2 4 1\n",
            " 0 1 0 1 4 1 4 2 4 1 4 1 0 2 0]\n"
          ],
          "name": "stdout"
        }
      ]
    },
    {
      "cell_type": "code",
      "metadata": {
        "id": "2TLg295tqLUE"
      },
      "source": [
        ""
      ],
      "execution_count": 19,
      "outputs": []
    }
  ]
}